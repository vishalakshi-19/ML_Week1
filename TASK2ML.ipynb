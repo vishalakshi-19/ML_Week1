{
 "cells": [
  {
   "cell_type": "code",
   "execution_count": 28,
   "metadata": {},
   "outputs": [
    {
     "name": "stdout",
     "output_type": "stream",
     "text": [
      "* \n",
      "* * \n",
      "* * * \n",
      "* * * * \n",
      "* * * * * \n"
     ]
    }
   ],
   "source": [
    "#PATTERNS\n",
    "#1ST\n",
    "n = 5\n",
    "for i in range(1, n+1):\n",
    "    print(\"* \" * i)"
   ]
  },
  {
   "cell_type": "code",
   "execution_count": 29,
   "metadata": {},
   "outputs": [
    {
     "name": "stdout",
     "output_type": "stream",
     "text": [
      "    1\n",
      "   1 2\n",
      "  1 2 3\n",
      " 1 2 3 4\n",
      "1 2 3 4 5\n"
     ]
    }
   ],
   "source": [
    "#2ND\n",
    "n = 5\n",
    "for i in range(1, n+1):\n",
    "    print(\" \" * (n-i), end=\"\")\n",
    "    print(\" \".join(str(j) for j in range(1, i+1)))"
   ]
  },
  {
   "cell_type": "code",
   "execution_count": 30,
   "metadata": {},
   "outputs": [
    {
     "name": "stdout",
     "output_type": "stream",
     "text": [
      "■ □ ■ □ ■ □ ■ □ \n",
      "□ ■ □ ■ □ ■ □ ■ \n",
      "■ □ ■ □ ■ □ ■ □ \n",
      "□ ■ □ ■ □ ■ □ ■ \n",
      "■ □ ■ □ ■ □ ■ □ \n",
      "□ ■ □ ■ □ ■ □ ■ \n",
      "■ □ ■ □ ■ □ ■ □ \n",
      "□ ■ □ ■ □ ■ □ ■ \n"
     ]
    }
   ],
   "source": [
    "#3RD\n",
    "for i in range(8):\n",
    "    for j in range(8):\n",
    "        if (i + j) % 2 == 0:\n",
    "            print(\"■\", end=\" \")\n",
    "        else:\n",
    "            print(\"□\", end=\" \")\n",
    "    print()"
   ]
  },
  {
   "cell_type": "markdown",
   "metadata": {},
   "source": [
    "#2ND CUSTOM CALCULATOR"
   ]
  },
  {
   "cell_type": "code",
   "execution_count": 31,
   "metadata": {},
   "outputs": [],
   "source": [
    "import math\n",
    "\n",
    "def calculator():\n",
    "    print(\"Available operations: +, -, *, /, %, **, factorial\")\n",
    "    try:\n",
    "        op = input(\"Enter operation: \")\n",
    "\n",
    "        if op == \"factorial\":\n",
    "            num = int(input(\"Enter number: \"))\n",
    "            print(\"Result:\", math.factorial(num))\n",
    "        else:\n",
    "            a = float(input(\"Enter first number: \"))\n",
    "            b = float(input(\"Enter second number: \"))\n",
    "\n",
    "            if op == '+':\n",
    "                print(\"Result:\", a + b)\n",
    "            elif op == '-':\n",
    "                print(\"Result:\", a - b)\n",
    "            elif op == '*':\n",
    "                print(\"Result:\", a * b)\n",
    "            elif op == '/':\n",
    "                try:\n",
    "                    print(\"Result:\", a / b)\n",
    "                except ZeroDivisionError:\n",
    "                    print(\"Error: Division by zero!\")\n",
    "            elif op == '%':\n",
    "                print(\"Result:\", a % b)\n",
    "            elif op == '':\n",
    "                print(\"Result:\", a ** b)\n",
    "            else:\n",
    "                print(\"Invalid operation!\")\n",
    "    except Exception as e:\n",
    "        print(\"Error:\", e)\n",
    "\n",
    " "
   ]
  },
  {
   "cell_type": "code",
   "execution_count": 32,
   "metadata": {},
   "outputs": [],
   "source": [
    "#3RD WORD ANALYSER "
   ]
  },
  {
   "cell_type": "code",
   "execution_count": 33,
   "metadata": {},
   "outputs": [
    {
     "name": "stdout",
     "output_type": "stream",
     "text": [
      "Total words: 13\n",
      "Word Frequency: Counter({'python': 3, 'is': 2, 'and': 2, 'powerful.': 2, 'great': 1, 'makes': 1, 'coding': 1, 'fun': 1})\n",
      "Longest word: powerful.\n",
      "Top 3 most frequent: [('python', 3), ('is', 2), ('and', 2)]\n"
     ]
    }
   ],
   "source": [
    "from collections import Counter\n",
    "\n",
    "text = \"\"\"Python is great and Python is powerful. Python makes coding fun and powerful.\"\"\"\n",
    "words = text.lower().split()\n",
    "\n",
    "\n",
    "print(\"Total words:\", len(words))\n",
    "\n",
    "\n",
    "freq = Counter(words)\n",
    "print(\"Word Frequency:\", freq)\n",
    "\n",
    "\n",
    "longest = max(words, key=len)\n",
    "print(\"Longest word:\", longest)\n",
    "\n",
    "\n",
    "print(\"Top 3 most frequent:\", freq.most_common(3))"
   ]
  },
  {
   "cell_type": "code",
   "execution_count": 34,
   "metadata": {},
   "outputs": [],
   "source": [
    "#CODING ROUND"
   ]
  },
  {
   "cell_type": "markdown",
   "metadata": {},
   "source": [
    "#NICE PAIR"
   ]
  },
  {
   "cell_type": "code",
   "execution_count": 20,
   "metadata": {},
   "outputs": [
    {
     "name": "stdout",
     "output_type": "stream",
     "text": [
      "Number of nice pairs: 4\n"
     ]
    }
   ],
   "source": [
    "n, k = 5, 3\n",
    "a = [1, 2, 3, 4, 5]\n",
    "\n",
    "count = 0\n",
    "for i in range(n):\n",
    "    for j in range(i+1, n):\n",
    "        if (a[i] + a[j]) % k == 0:\n",
    "            count += 1\n",
    "\n",
    "print(\"Number of nice pairs:\", count)"
   ]
  },
  {
   "cell_type": "code",
   "execution_count": null,
   "metadata": {},
   "outputs": [],
   "source": [
    "#GOOD SUBARRAY"
   ]
  },
  {
   "cell_type": "code",
   "execution_count": null,
   "metadata": {},
   "outputs": [
    {
     "name": "stdout",
     "output_type": "stream",
     "text": [
      "Good subarrays: 6\n"
     ]
    }
   ],
   "source": [
    "def good_subarrays(a):\n",
    "    n = len(a)\n",
    "    prefix = [0] * (n+1)\n",
    "\n",
    "\n",
    "    for i in range(n):\n",
    "        prefix[i+1] = prefix[i] + a[i]\n",
    "\n",
    "    count = 0\n",
    "    \n",
    "    for l in range(n):\n",
    "        for r in range(l, n):\n",
    "            total = prefix[r+1] - prefix[l]\n",
    "            length = r - l + 1\n",
    "            if total % length == 0:\n",
    "                count += 1\n",
    "    return count\n",
    "\n",
    "\n",
    "a = [1, 2, 3, 4]\n",
    "print(\"Good subarrays:\", good_subarrays(a))"
   ]
  },
  {
   "cell_type": "code",
   "execution_count": null,
   "metadata": {},
   "outputs": [],
   "source": [
    "#BINARY STRING FLIPS"
   ]
  },
  {
   "cell_type": "code",
   "execution_count": null,
   "metadata": {},
   "outputs": [
    {
     "name": "stdout",
     "output_type": "stream",
     "text": [
      "2\n"
     ]
    }
   ],
   "source": [
    "def min_flips_alternating(s):\n",
    "    n = len(s)\n",
    "    \n",
    "    pattern1 = ''.join('0' if i % 2 == 0 else '1' for i in range(n))\n",
    "    \n",
    "    pattern2 = ''.join('1' if i % 2 == 0 else '0' for i in range(n))\n",
    "\n",
    "    \n",
    "    flips1 = sum(s[i] != pattern1[i] for i in range(n))\n",
    "    flips2 = sum(s[i] != pattern2[i] for i in range(n))\n",
    "\n",
    "    return min(flips1, flips2)\n",
    "\n",
    "s = \"1001\"\n",
    "print(min_flips_alternating(s))  "
   ]
  },
  {
   "cell_type": "code",
   "execution_count": 38,
   "metadata": {},
   "outputs": [],
   "source": [
    "#EQUALISE THE ARRAY"
   ]
  },
  {
   "cell_type": "code",
   "execution_count": 39,
   "metadata": {},
   "outputs": [
    {
     "name": "stdout",
     "output_type": "stream",
     "text": [
      "Minimum operations: 10\n"
     ]
    }
   ],
   "source": [
    "def min_operations_equalize(arr):\n",
    "    arr.sort()\n",
    "    n = len(arr)\n",
    "    median = arr[n // 2]   \n",
    "    \n",
    "    \n",
    "    ops = sum(abs(x - median) for x in arr)\n",
    "    return ops\n",
    "\n",
    "\n",
    "a = [1, 2, 3, 10]\n",
    "print(\"Minimum operations:\", min_operations_equalize(a))"
   ]
  },
  {
   "cell_type": "code",
   "execution_count": null,
   "metadata": {},
   "outputs": [],
   "source": [
    "#MINIMUM DELETITION FOR PALINDROME"
   ]
  },
  {
   "cell_type": "code",
   "execution_count": null,
   "metadata": {},
   "outputs": [
    {
     "name": "stdout",
     "output_type": "stream",
     "text": [
      "Minimum deletions: 2\n"
     ]
    }
   ],
   "source": [
    "def min_deletions_palindrome(s):\n",
    "    n = len(s)\n",
    "    rev = s[::-1]\n",
    "\n",
    "    \n",
    "    dp = [[0] * (n+1) for _ in range(n+1)]\n",
    "\n",
    "    for i in range(1, n+1):\n",
    "        for j in range(1, n+1):\n",
    "            if s[i-1] == rev[j-1]:\n",
    "                dp[i][j] = 1 + dp[i-1][j-1]\n",
    "            else:\n",
    "                dp[i][j] = max(dp[i-1][j], dp[i][j-1])\n",
    "\n",
    "    lps = dp[n][n]   \n",
    "    return n - lps\n",
    "\n",
    "\n",
    "s = \"aebcbda\"\n",
    "print(\"Minimum deletions:\", min_deletions_palindrome(s))"
   ]
  }
 ],
 "metadata": {
  "kernelspec": {
   "display_name": "base",
   "language": "python",
   "name": "python3"
  },
  "language_info": {
   "codemirror_mode": {
    "name": "ipython",
    "version": 3
   },
   "file_extension": ".py",
   "mimetype": "text/x-python",
   "name": "python",
   "nbconvert_exporter": "python",
   "pygments_lexer": "ipython3",
   "version": "3.12.7"
  }
 },
 "nbformat": 4,
 "nbformat_minor": 2
}
