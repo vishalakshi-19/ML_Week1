{
 "cells": [
  {
   "cell_type": "code",
   "execution_count": 1,
   "id": "416d6795-119b-4acb-b249-4c30462f7329",
   "metadata": {},
   "outputs": [
    {
     "name": "stdout",
     "output_type": "stream",
     "text": [
      "hello\n"
     ]
    }
   ],
   "source": [
    "print(\"hello\")"
   ]
  },
  {
   "cell_type": "code",
   "execution_count": 1,
   "id": "5600d179-3b52-4f8f-84cb-fe30944a24cb",
   "metadata": {},
   "outputs": [
    {
     "name": "stdin",
     "output_type": "stream",
     "text": [
      "enter name vishalakshi\n",
      "enter age 18\n",
      "enter location bhopal\n",
      "enter interest painting\n"
     ]
    },
    {
     "name": "stdout",
     "output_type": "stream",
     "text": [
      "my name is  vishalakshi .I am  18 years old. I live in bhopal my interest is painting\n"
     ]
    }
   ],
   "source": [
    "name = input(\"enter name\")\n",
    "age=int(input(\"enter age\"))\n",
    "location=input(\"enter location\")\n",
    "interest=input(\"enter interest\")\n",
    "print(\"my name is \",name,\".I am \",age,\"years old. I live in\",location,\"my interest is\",interest)"
   ]
  },
  {
   "cell_type": "code",
   "execution_count": null,
   "id": "0e78dc64-8b90-41f9-a7a8-7f06e570e4cd",
   "metadata": {},
   "outputs": [],
   "source": [
    "  task 2"
   ]
  },
  {
   "cell_type": "code",
   "execution_count": 3,
   "id": "929d2556-ef06-48ce-ac31-3defe6d6fa2a",
   "metadata": {},
   "outputs": [
    {
     "name": "stdin",
     "output_type": "stream",
     "text": [
      " 450\n",
      " 3\n"
     ]
    },
    {
     "name": "stdout",
     "output_type": "stream",
     "text": [
      "1593.0\n"
     ]
    }
   ],
   "source": [
    "itemprice =int(input())\n",
    "quantity=int(input())\n",
    "total=itemprice*quantity\n",
    "gst=total*0.18\n",
    "bill=total+gst\n",
    "print(bill)\n",
    "    "
   ]
  },
  {
   "cell_type": "code",
   "execution_count": 4,
   "id": "78f28c49-c898-4655-8e42-4621f959aba8",
   "metadata": {},
   "outputs": [
    {
     "name": "stdin",
     "output_type": "stream",
     "text": [
      " 78\n"
     ]
    },
    {
     "name": "stdout",
     "output_type": "stream",
     "text": [
      "B\n"
     ]
    }
   ],
   "source": [
    "marks=int(input())\n",
    "if marks>=90:\n",
    "    print(\"A\")\n",
    "elif marks>=75:\n",
    "    print(\"B\")\n",
    "elif marks>=60:\n",
    "    print(\"C\")\n",
    "else:\n",
    "    print(fail)"
   ]
  },
  {
   "cell_type": "code",
   "execution_count": null,
   "id": "371448f7-64a1-4c76-82dd-a00b883cc935",
   "metadata": {},
   "outputs": [],
   "source": [
    "task 4\n"
   ]
  },
  {
   "cell_type": "code",
   "execution_count": 5,
   "id": "bc18c892-979f-4f5f-bc73-006368e9c9a5",
   "metadata": {},
   "outputs": [
    {
     "name": "stdin",
     "output_type": "stream",
     "text": [
      "enter temperature 45\n",
      "enter temperature 40\n",
      "enter temperature 44\n",
      "enter temperature 38\n",
      "enter temperature 39\n"
     ]
    },
    {
     "name": "stdout",
     "output_type": "stream",
     "text": [
      "average is : 41.2\n"
     ]
    }
   ],
   "source": [
    "temps=[]\n",
    "for i in range(5):\n",
    "    temperature=float(input(\"enter temperature\"))\n",
    "    temps.append(temperature)\n",
    "avg=sum(temps)/len(temps)\n",
    "print(\"average is :\",avg)"
   ]
  },
  {
   "cell_type": "code",
   "execution_count": null,
   "id": "68dc06fc-78e3-44aa-b69c-6906413708a3",
   "metadata": {},
   "outputs": [],
   "source": [
    "task 5"
   ]
  },
  {
   "cell_type": "code",
   "execution_count": 7,
   "id": "8070e142-2e03-440d-aef3-ad5fa892277d",
   "metadata": {},
   "outputs": [
    {
     "ename": "SyntaxError",
     "evalue": "invalid syntax (461873274.py, line 5)",
     "output_type": "error",
     "traceback": [
      "  \u001b[36mCell\u001b[39m\u001b[36m \u001b[39m\u001b[32mIn[7]\u001b[39m\u001b[32m, line 5\u001b[39m\n\u001b[31m    \u001b[39m\u001b[31mif guess = = num:\u001b[39m\n             ^\n\u001b[31mSyntaxError\u001b[39m\u001b[31m:\u001b[39m invalid syntax\n"
     ]
    }
   ],
   "source": [
    "num=7\n",
    "print(\"enter number between 1-10\")\n",
    "for i in range(5):\n",
    "    guess= input(\"guess\") \n",
    "    if guess== num:\n",
    "        print(\"correct!\")\n",
    "        break\n",
    "    else:\n",
    "        print(\"wrong guess\")\n",
    "else:\n",
    "    print(\"out of tries\",\"num is\",num)"
   ]
  },
  {
   "cell_type": "code",
   "execution_count": null,
   "id": "eb50ef32-306e-412f-a6cb-574bbda4a5a7",
   "metadata": {},
   "outputs": [],
   "source": []
  }
 ],
 "metadata": {
  "kernelspec": {
   "display_name": "Python 3 (ipykernel)",
   "language": "python",
   "name": "python3"
  },
  "language_info": {
   "codemirror_mode": {
    "name": "ipython",
    "version": 3
   },
   "file_extension": ".py",
   "mimetype": "text/x-python",
   "name": "python",
   "nbconvert_exporter": "python",
   "pygments_lexer": "ipython3",
   "version": "3.13.3"
  }
 },
 "nbformat": 4,
 "nbformat_minor": 5
}
