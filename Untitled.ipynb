{
 "cells": [
  {
   "cell_type": "code",
   "execution_count": 14,
   "id": "6bed6a4e-fb05-4bd1-8345-8ae1cbf28354",
   "metadata": {},
   "outputs": [
    {
     "name": "stdin",
     "output_type": "stream",
     "text": [
      "enter makrs of student 89\n",
      "enter makrs of student 88\n",
      "enter makrs of student 90\n",
      "enter makrs of student 60\n",
      "enter makrs of student 88\n",
      "enter makrs of student 57\n",
      "enter makrs of student 80\n",
      "enter makrs of student 75\n",
      "enter makrs of student 79\n"
     ]
    },
    {
     "name": "stdout",
     "output_type": "stream",
     "text": [
      "The matrix is : [[89, 88, 90], [60, 88, 57], [80, 75, 79]]\n",
      "average of student 1 : 89.0\n",
      "total of student  1 :  267\n",
      "average of student 2 : 68.33333333333333\n",
      "total of student  2 :  205\n",
      "average of student 3 : 78.0\n",
      "total of student  3 :  234\n"
     ]
    }
   ],
   "source": [
    "### task 1\n",
    "\n",
    "l=[]\n",
    "for i in range(3):\n",
    "    student_mark=[]\n",
    "    for j in range(3):\n",
    "        mark=int(input(\"enter makrs of student\"))\n",
    "        student_mark.append(mark)\n",
    "    l.append(student_mark)\n",
    "print(\"The matrix is :\",l)\n",
    "\n",
    "\n",
    "for i, student_mark in enumerate(l,start=1) :\n",
    "    t= sum(student_mark)\n",
    "    \n",
    "    avg=t/len(student_mark)\n",
    "    print(\"average of student\",i,\":\",avg)\n",
    "    print(\"total of student \",i,\": \",t)\n",
    "        \n"
   ]
  },
  {
   "cell_type": "code",
   "execution_count": 20,
   "id": "3e8dd5cb-fe32-471f-90f8-6f3d3ed96d25",
   "metadata": {},
   "outputs": [
    {
     "name": "stdin",
     "output_type": "stream",
     "text": [
      "enter the name : jay\n",
      "enter the age: 18\n",
      "enter thr roll no: 39\n"
     ]
    },
    {
     "name": "stdout",
     "output_type": "stream",
     "text": [
      "tulpe is: ('jay', 18, 39)\n"
     ]
    }
   ],
   "source": [
    " #task 2\n",
    "\n",
    "\n",
    "name=input(\"enter the name :\")\n",
    "age=int(input(\"enter the age:\"))\n",
    "rollno=int(input(\"enter thr roll no:\"))\n",
    "tup=[]\n",
    "tup.append(name)\n",
    "tup.append(age)\n",
    "tup.append(rollno)\n",
    "t=tuple(tup)\n",
    "print(\"tulpe is:\",t)"
   ]
  },
  {
   "cell_type": "code",
   "execution_count": 5,
   "id": "2e290d5f-2ce5-4b07-943e-6b85828faabf",
   "metadata": {},
   "outputs": [
    {
     "name": "stdin",
     "output_type": "stream",
     "text": [
      "enter the no. of pairs 3\n",
      "enter the roll no : 39\n",
      "enter name jay\n",
      "enter the roll no : 40\n",
      "enter name veeru\n",
      "enter the roll no : 41\n",
      "enter name basanti\n"
     ]
    },
    {
     "name": "stdout",
     "output_type": "stream",
     "text": [
      "the dictionary is: {39: 'jay', 40: 'veeru', 41: 'basanti'}\n"
     ]
    },
    {
     "name": "stdin",
     "output_type": "stream",
     "text": [
      "enter roll no: 40\n"
     ]
    },
    {
     "name": "stdout",
     "output_type": "stream",
     "text": [
      "veeru\n",
      "None\n"
     ]
    }
   ],
   "source": [
    "#task 3\n",
    "d={}\n",
    "n=int(input(\"enter the no. of pairs\"))\n",
    "for i  in range(n):\n",
    "    key=int(input(\"enter the roll no :\"))\n",
    "    value=input(\"enter name\")\n",
    "    d[key]=value\n",
    "print(\"the dictionary is:\",d)\n",
    "def searchstu():\n",
    "    roll=int(input(\"enter roll no:\"))\n",
    "    for key in d:\n",
    "        if key==roll:\n",
    "            print(d[key])\n",
    "            return\n",
    "        \n",
    "    print(\"not found\")\n",
    "    return none\n",
    "a=searchstu()\n",
    "print(a)"
   ]
  },
  {
   "cell_type": "code",
   "execution_count": 8,
   "id": "297bc983-a368-4033-8e97-fd9f16f12209",
   "metadata": {},
   "outputs": [
    {
     "name": "stdout",
     "output_type": "stream",
     "text": [
      "play both: set()\n",
      "play only one: {'geet', 'veeru', 'basanti', 'aaditya', 'dev', 'jay '}\n",
      "play none: {'jay'}\n"
     ]
    }
   ],
   "source": [
    "#task 4\n",
    "all_stu={\"jay\",\"veeru\",\"basanti\",\"geet\",\"aaditya\",\"dev\"}\n",
    "football_stu={\"jay \",\"veeru\",\"basanti\"}\n",
    "cricket_stu={\"geet\",\"aaditya\",\"dev\"}\n",
    "both= football_stu & cricket_stu\n",
    "only_ftball=football_stu-cricket_stu\n",
    "only_crick=cricket_stu-football_stu\n",
    "only_one=only_ftball|only_crick\n",
    "none= all_stu-(football_stu|cricket_stu)\n",
    "print(\"play both:\",both)\n",
    "print(\"play only one:\",only_one)\n",
    "print(\"play none:\",none)"
   ]
  },
  {
   "cell_type": "code",
   "execution_count": null,
   "id": "9b4e950d-aa0c-49dd-959e-fcf1adc9130e",
   "metadata": {},
   "outputs": [],
   "source": []
  }
 ],
 "metadata": {
  "kernelspec": {
   "display_name": "Python 3 (ipykernel)",
   "language": "python",
   "name": "python3"
  },
  "language_info": {
   "codemirror_mode": {
    "name": "ipython",
    "version": 3
   },
   "file_extension": ".py",
   "mimetype": "text/x-python",
   "name": "python",
   "nbconvert_exporter": "python",
   "pygments_lexer": "ipython3",
   "version": "3.13.3"
  }
 },
 "nbformat": 4,
 "nbformat_minor": 5
}
